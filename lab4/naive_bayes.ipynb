{
 "cells": [
  {
   "cell_type": "code",
   "execution_count": 1,
   "metadata": {
    "colab": {
     "base_uri": "https://localhost:8080/"
    },
    "id": "J7HVu1yv4j4F",
    "outputId": "f9c959c0-2f26-4a76-d6af-42cf97883c4d"
   },
   "outputs": [
    {
     "name": "stdout",
     "output_type": "stream",
     "text": [
      "<bound method NDFrame.head of      num_preg  glucose_conc  diastolic_bp  thickness  insulin   bmi  \\\n",
      "0           6           148            72         35        0  33.6   \n",
      "1           1            85            66         29        0  26.6   \n",
      "2           8           183            64          0        0  23.3   \n",
      "3           1            89            66         23       94  28.1   \n",
      "4           0           137            40         35      168  43.1   \n",
      "..        ...           ...           ...        ...      ...   ...   \n",
      "763        10           101            76         48      180  32.9   \n",
      "764         2           122            70         27        0  36.8   \n",
      "765         5           121            72         23      112  26.2   \n",
      "766         1           126            60          0        0  30.1   \n",
      "767         1            93            70         31        0  30.4   \n",
      "\n",
      "     diab_pred  age  diabetes  \n",
      "0        0.627   50         1  \n",
      "1        0.351   31         0  \n",
      "2        0.672   32         1  \n",
      "3        0.167   21         0  \n",
      "4        2.288   33         1  \n",
      "..         ...  ...       ...  \n",
      "763      0.171   63         0  \n",
      "764      0.340   27         0  \n",
      "765      0.245   30         0  \n",
      "766      0.349   47         1  \n",
      "767      0.315   23         0  \n",
      "\n",
      "[768 rows x 9 columns]>\n",
      "\n",
      "The total number of Training Data: (514, 1)\n",
      "The total number of Test Data: (254, 1)\n"
     ]
    }
   ],
   "source": [
    "import numpy as np # linear algebra\n",
    "import pandas as pd # data processing, CSV file I/O (e.g. pd.read_csv)\n",
    "from sklearn.model_selection import train_test_split\n",
    "from sklearn.naive_bayes import GaussianNB\n",
    "from sklearn import metrics\n",
    "\n",
    "df = pd.read_csv(\"pima_indian.csv\")\n",
    "feature_col_names = ['num_preg', 'glucose_conc', 'diastolic_bp', 'thickness', 'insulin', 'bmi', 'diab_pred', 'age']\n",
    "predicted_class_names = ['diabetes']\n",
    "X = df[feature_col_names].values \n",
    "y = df[predicted_class_names].values\n",
    "print(df.head)\n",
    "xtrain,xtest,ytrain,ytest=train_test_split(X,y,test_size=0.33)\n",
    "print ('\\nThe total number of Training Data:',ytrain.shape)\n",
    "print ('The total number of Test Data:',ytest.shape)"
   ]
  },
  {
   "cell_type": "code",
   "execution_count": 3,
   "metadata": {
    "colab": {
     "base_uri": "https://localhost:8080/"
    },
    "id": "NiKBxXkI5xrL",
    "outputId": "ba7a0ecf-25e0-4ae4-fc10-76efa687b2b3"
   },
   "outputs": [
    {
     "name": "stdout",
     "output_type": "stream",
     "text": [
      "\n",
      "Confusion matrix\n",
      "<sklearn.metrics._plot.confusion_matrix.ConfusionMatrixDisplay object at 0x0000028D943B1520>\n",
      "\n",
      "Accuracy of the classifier: 0.7716535433070866\n",
      "The value of Precision: 0.7096774193548387\n",
      "The value of Recall: 0.5238095238095238\n",
      "Predicted Value for individual Test Data: [1]\n"
     ]
    },
    {
     "data": {
      "image/png": "[encoded data removed]",
      "text/plain": [
       "<Figure size 432x288 with 2 Axes>"
      ]
     },
     "metadata": {
      "needs_background": "light"
     },
     "output_type": "display_data"
    }
   ],
   "source": [
    "clf = GaussianNB().fit(xtrain,ytrain.ravel())\n",
    "predicted = clf.predict(xtest)\n",
    "predictTestData= clf.predict([[6,148,72,35,0,33.6,0.627,50]])\n",
    "print('\\nConfusion matrix')\n",
    "print(metrics.plot_confusion_matrix(clf, ytest,predicted))\n",
    "print('\\nAccuracy of the classifier:',metrics.accuracy_score(ytest,predicted))\n",
    "print('The value of Precision:', metrics.precision_score(ytest,predicted))\n",
    "print('The value of Recall:', metrics.recall_score(ytest,predicted))\n",
    "print(\"Predicted Value for individual Test Data:\", predictTestData)"
   ]
  },
  {
   "cell_type": "code",
   "execution_count": null,
   "metadata": {},
   "outputs": [],
   "source": []
  }
 ],
 "metadata": {
  "colab": {
   "name": "naive_bayes.ipynb",
   "provenance": []
  },
  "kernelspec": {
   "display_name": "Python 3 (ipykernel)",
   "language": "python",
   "name": "python3"
  },
  "language_info": {
   "codemirror_mode": {
    "name": "ipython",
    "version": 3
   },
   "file_extension": ".py",
   "mimetype": "text/x-python",
   "name": "python",
   "nbconvert_exporter": "python",
   "pygments_lexer": "ipython3",
   "version": "3.9.7"
  }
 },
 "nbformat": 4,
 "nbformat_minor": 1
}
