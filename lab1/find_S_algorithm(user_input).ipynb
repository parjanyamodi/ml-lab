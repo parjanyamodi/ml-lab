{
  "nbformat": 4,
  "nbformat_minor": 0,
  "metadata": {
    "colab": {
      "name": "find S algorithm(user input).ipynb",
      "provenance": [],
      "collapsed_sections": []
    },
    "kernelspec": {
      "name": "python3",
      "display_name": "Python 3"
    },
    "language_info": {
      "name": "python"
    }
  },
  "cells": [
    {
      "cell_type": "code",
      "execution_count": 5,
      "metadata": {
        "id": "V_p4Y9QJtAEt"
      },
      "outputs": [],
      "source": [
        "import numpy as np\n",
        "import pandas as pd"
      ]
    },
    {
      "cell_type": "code",
      "source": [
        "n=int(input(\"Enter the number of attributes\"))\n",
        "l=int(input(\"Enter the number of rows\"))"
      ],
      "metadata": {
        "colab": {
          "base_uri": "https://localhost:8080/"
        },
        "id": "OMXq8JiBtA9V",
        "outputId": "38a5574f-903c-4dda-9d76-c14d07c71f30"
      },
      "execution_count": 6,
      "outputs": [
        {
          "name": "stdout",
          "output_type": "stream",
          "text": [
            "Enter the number of attributes3\n",
            "Enter the number of rows3\n"
          ]
        }
      ]
    },
    {
      "cell_type": "code",
      "source": [
        "print(\"Enter the \",n,\"ättributes\")\n",
        "attributes=[]\n",
        "for i in range(1,n+1):\n",
        "  print(\"Enter the name of \",i,\" attribute \")\n",
        "  name=input()"
      ],
      "metadata": {
        "colab": {
          "base_uri": "https://localhost:8080/"
        },
        "id": "WSiZgQAmtA_2",
        "outputId": "d201eb60-0119-4b45-aa00-619c85691ee6"
      },
      "execution_count": 13,
      "outputs": [
        {
          "name": "stdout",
          "output_type": "stream",
          "text": [
            "Enter the  3 ättributes\n",
            "Enter the name of  1  attribute \n",
            "Time\n",
            "Enter the name of  2  attribute \n",
            "Weather\n",
            "Enter the name of  3  attribute \n",
            "Temparature\n"
          ]
        }
      ]
    },
    {
      "cell_type": "code",
      "source": [
        "for i in range(1,l+1):\n",
        "  print(\"Ënter the values of \",i,\" row\")\n",
        "  print(\"Enter the values of attributes\")\n",
        "  res=[]\n",
        "  for j in range(1,l+1):\n",
        "    res.append(input())\n",
        "  attributes.append(res)\n"
      ],
      "metadata": {
        "colab": {
          "base_uri": "https://localhost:8080/"
        },
        "id": "fGHC5uqXxQfG",
        "outputId": "ac546f6d-53b2-4fa3-dd07-bbb019686ef2"
      },
      "execution_count": 15,
      "outputs": [
        {
          "name": "stdout",
          "output_type": "stream",
          "text": [
            "Ënter the values of  1  row\n",
            "Enter the values of attributes\n",
            "Morning\n",
            "Sunny\n",
            "Warm\n",
            "Ënter the values of  2  row\n",
            "Enter the values of attributes\n",
            "Evening\n",
            "Rainy\n",
            "Cold\n",
            "Ënter the values of  3  row\n",
            "Enter the values of attributes\n",
            "Morning\n",
            "Sunny\n",
            "Moderate\n"
          ]
        }
      ]
    },
    {
      "cell_type": "code",
      "source": [
        "print(\"Enter the target values\")\n",
        "target=[]\n",
        "for i in range(1,l+1):\n",
        "  print(\"Enter the value of \",i,\" target\")\n",
        "  x=input()\n",
        "  target.append(x)"
      ],
      "metadata": {
        "colab": {
          "base_uri": "https://localhost:8080/"
        },
        "id": "dFJBOfyctBCf",
        "outputId": "8433cc1a-dc37-43d7-ec83-c96d046847e3"
      },
      "execution_count": 17,
      "outputs": [
        {
          "name": "stdout",
          "output_type": "stream",
          "text": [
            "Enter the target values\n",
            "Enter the value of  1  target\n",
            "Yes\n",
            "Enter the value of  2  target\n",
            "No\n",
            "Enter the value of  3  target\n",
            "Yes\n"
          ]
        }
      ]
    },
    {
      "cell_type": "code",
      "source": [
        "print(\"\\n The attributes are: \",attributes)\n",
        "print(\"\\n The target is: \",target)"
      ],
      "metadata": {
        "colab": {
          "base_uri": "https://localhost:8080/"
        },
        "id": "dsTRXu4ztBFF",
        "outputId": "ced60d06-1307-4203-aaa1-9fe4d708d16f"
      },
      "execution_count": 18,
      "outputs": [
        {
          "output_type": "stream",
          "name": "stdout",
          "text": [
            "\n",
            " The attributes are:  [['Morning', 'Sunny', 'Warm'], ['Evening', 'Rainy', 'Cold'], ['Morning', 'Sunny', 'Moderate']]\n",
            "\n",
            " The target is:  ['Yes', 'No', 'Yes']\n"
          ]
        }
      ]
    },
    {
      "cell_type": "code",
      "source": [
        "def findS(c,t):\n",
        "    for i, val in enumerate(t):\n",
        "        if val == \"Yes\":\n",
        "            specific_hypothesis = c[i].copy()\n",
        "            break\n",
        "             \n",
        "    for i, val in enumerate(c):\n",
        "        if t[i] == \"Yes\":\n",
        "            for x in range(len(specific_hypothesis)):\n",
        "                if val[x] != specific_hypothesis[x]:\n",
        "                    specific_hypothesis[x] = '?'\n",
        "                else:\n",
        "                    pass\n",
        "                 \n",
        "    return specific_hypothesis"
      ],
      "metadata": {
        "id": "GGVUhw-6tBHO"
      },
      "execution_count": 19,
      "outputs": []
    },
    {
      "cell_type": "code",
      "source": [
        "print(\"\\n The final hypothesis is:\",findS(attributes,target))"
      ],
      "metadata": {
        "colab": {
          "base_uri": "https://localhost:8080/"
        },
        "id": "NjsszMfhwG6v",
        "outputId": "844f59d6-1038-4893-83e3-05917393bdfc"
      },
      "execution_count": 20,
      "outputs": [
        {
          "output_type": "stream",
          "name": "stdout",
          "text": [
            "\n",
            " The final hypothesis is: ['Morning', 'Sunny', '?']\n"
          ]
        }
      ]
    }
  ]
}